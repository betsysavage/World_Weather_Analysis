{
 "cells": [
  {
   "cell_type": "code",
   "execution_count": 1,
   "id": "d2a4f211",
   "metadata": {},
   "outputs": [],
   "source": [
    "# Import the random module.\n",
    "import random"
   ]
  },
  {
   "cell_type": "code",
   "execution_count": 2,
   "id": "7c43340b",
   "metadata": {},
   "outputs": [
    {
     "data": {
      "text/plain": [
       "-84"
      ]
     },
     "execution_count": 2,
     "metadata": {},
     "output_type": "execute_result"
    }
   ],
   "source": [
    "random.randint(-90, 90)"
   ]
  },
  {
   "cell_type": "code",
   "execution_count": 3,
   "id": "a13d4f10",
   "metadata": {},
   "outputs": [
    {
     "data": {
      "text/plain": [
       "0.3720784168366785"
      ]
     },
     "execution_count": 3,
     "metadata": {},
     "output_type": "execute_result"
    }
   ],
   "source": [
    "random.random()"
   ]
  },
  {
   "cell_type": "code",
   "execution_count": 5,
   "id": "83408e84",
   "metadata": {},
   "outputs": [
    {
     "data": {
      "text/plain": [
       "[-70.6889741494766,\n",
       " -82.62262347665067,\n",
       " -24.88881162086524,\n",
       " 68.4843870972437,\n",
       " 22.50056612452342,\n",
       " 34.676045627284296,\n",
       " 62.326914586401834,\n",
       " 41.60872291200924,\n",
       " -45.02026587373787,\n",
       " 39.872953732348364]"
      ]
     },
     "execution_count": 5,
     "metadata": {},
     "output_type": "execute_result"
    }
   ],
   "source": [
    "x = 1\n",
    "latitudes = []\n",
    "while x < 11:\n",
    "    random_lat = random.randint(-90, 89) + random.random()\n",
    "    latitudes.append(random_lat)\n",
    "    x += 1\n",
    "latitudes"
   ]
  },
  {
   "cell_type": "code",
   "execution_count": 6,
   "id": "1d7edc0b",
   "metadata": {},
   "outputs": [
    {
     "data": {
      "text/plain": [
       "46"
      ]
     },
     "execution_count": 6,
     "metadata": {},
     "output_type": "execute_result"
    }
   ],
   "source": [
    "random.randrange(-90, 90, step=1)"
   ]
  },
  {
   "cell_type": "code",
   "execution_count": 7,
   "id": "ab346de5",
   "metadata": {},
   "outputs": [
    {
     "data": {
      "text/plain": [
       "69.50019842823926"
      ]
     },
     "execution_count": 7,
     "metadata": {},
     "output_type": "execute_result"
    }
   ],
   "source": [
    "random.uniform(-90, 90)"
   ]
  },
  {
   "cell_type": "code",
   "execution_count": 8,
   "id": "f4a0b973",
   "metadata": {},
   "outputs": [],
   "source": [
    "# Import the NumPy module.\n",
    "import numpy as np"
   ]
  },
  {
   "cell_type": "code",
   "execution_count": 9,
   "id": "48f8de7a",
   "metadata": {},
   "outputs": [
    {
     "data": {
      "text/plain": [
       "-36.30687652031213"
      ]
     },
     "execution_count": 9,
     "metadata": {},
     "output_type": "execute_result"
    }
   ],
   "source": [
    "np.random.uniform(-90.000, 90.000)"
   ]
  },
  {
   "cell_type": "code",
   "execution_count": 10,
   "id": "141ec2ce",
   "metadata": {},
   "outputs": [
    {
     "data": {
      "text/plain": [
       "array([ 48.03999336,  -5.46875224,  78.47550484,  44.24632578,\n",
       "       -27.7646355 ,  54.82917591, -82.60168815,  80.22472736,\n",
       "        -6.06167854,  54.64836254, -63.90228728, -46.88819219,\n",
       "       -45.26867471,  67.6606637 , -81.64543278,  70.30721258,\n",
       "        12.18787481, -51.07889031,  -5.5677843 ,  42.82239861,\n",
       "         8.50463601, -43.38628743,  54.20884746,  23.77423719,\n",
       "       -49.89824992,  -5.44410489, -40.8627666 ,  58.23737804,\n",
       "       -79.46524986, -43.41517964,  11.56794946, -40.52217072,\n",
       "       -50.67143062, -18.24098914, -57.44889918, -54.93619674,\n",
       "        33.25346342,  37.55352538,  78.48418363,  76.25378308,\n",
       "        25.08493999,  69.64455245,  86.42578849, -20.36028436,\n",
       "        17.2839226 ,  30.96171517,   9.66343007,  68.48875318,\n",
       "        26.27939366,  54.60071182])"
      ]
     },
     "execution_count": 10,
     "metadata": {},
     "output_type": "execute_result"
    }
   ],
   "source": [
    "np.random.uniform(-90.000, 90.000, size=50)"
   ]
  },
  {
   "cell_type": "code",
   "execution_count": null,
   "id": "8a91d746",
   "metadata": {},
   "outputs": [],
   "source": []
  }
 ],
 "metadata": {
  "kernelspec": {
   "display_name": "PythonData",
   "language": "python",
   "name": "pythondata"
  },
  "language_info": {
   "codemirror_mode": {
    "name": "ipython",
    "version": 3
   },
   "file_extension": ".py",
   "mimetype": "text/x-python",
   "name": "python",
   "nbconvert_exporter": "python",
   "pygments_lexer": "ipython3",
   "version": "3.7.13"
  }
 },
 "nbformat": 4,
 "nbformat_minor": 5
}
